{
 "cells": [
  {
   "cell_type": "code",
   "execution_count": 7,
   "id": "75abe0b1",
   "metadata": {},
   "outputs": [
    {
     "ename": "IndentationError",
     "evalue": "expected an indented block after 'for' statement on line 29 (3619124225.py, line 31)",
     "output_type": "error",
     "traceback": [
      "\u001b[1;36m  Cell \u001b[1;32mIn[7], line 31\u001b[1;36m\u001b[0m\n\u001b[1;33m    title = product.find('span', {'class': 'a-size-medium'}).text.strip()\u001b[0m\n\u001b[1;37m    ^\u001b[0m\n\u001b[1;31mIndentationError\u001b[0m\u001b[1;31m:\u001b[0m expected an indented block after 'for' statement on line 29\n"
     ]
    }
   ],
   "source": [
    "#Write a python program which searches all the product under a particular product from www.amazon.in. The\n",
    "#product to be searched will be taken as input from user. For e.g. If user input is ‘guitar’. Then search for\n",
    "#guitars.\n",
    "#import all the required libraries\n",
    "!pip install\n",
    "import pandas as pd\n",
    "import selenium\n",
    "from selenium import webdriver\n",
    "from selenium.common.exceptions import StaleElementReferenceException, NoSuchElementException\n",
    "import time\n",
    "import re\n",
    "import requests\n",
    "from bs4 import BeautifulSoup\n",
    "\n",
    "def search_product(product):\n",
    "  # Format the search query\n",
    "  search_query = product.replace(' ', '+')\n",
    "\n",
    "  # Send a GET request to Amazon.in search page\n",
    "  url = f'https://www.amazon.in/s?k={search_query}'\n",
    "  response = requests.get(url)\n",
    "\n",
    "  # Parse the HTML content using BeautifulSoup\n",
    "  soup = BeautifulSoup(response.content, 'html.parser')\n",
    "\n",
    "  # Find all the product elements on the page\n",
    "  products = soup.find_all('div', {'data-component-type': 's-search-result'})\n",
    "\n",
    "  # Iterate over the products and extract relevant information\n",
    "  for product in products:\n",
    "  # Extract the product title\n",
    "  title = product.find('span', {'class': 'a-size-medium'}).text.strip()\n",
    "\n",
    "  # Extract the product price\n",
    "  price = product.find('span', {'class': 'a-price-whole'}).text.strip()\n",
    "  # Extract the product rating\n",
    "  rating = product.find('span', {'class': 'a-icon-alt'}).text.strip()\n",
    "\n",
    "  # Print the product information\n",
    "  print(f'Title: {title}')\n",
    "  print(f'Price: {price}')\n",
    "  print(f'Rating: {rating}')\n",
    "  print('---')\n",
    "\n",
    "# Take user input for the product to search\n",
    "product = input('Enter the product to search: ')\n",
    "\n",
    "# Call the search_product function with the user input\n",
    "search_product(product)"
   ]
  },
  {
   "cell_type": "code",
   "execution_count": 1,
   "id": "dec34c7e",
   "metadata": {},
   "outputs": [
    {
     "ename": "IndentationError",
     "evalue": "expected an indented block after 'for' statement on line 42 (646742317.py, line 43)",
     "output_type": "error",
     "traceback": [
      "\u001b[1;36m  Cell \u001b[1;32mIn[1], line 43\u001b[1;36m\u001b[0m\n\u001b[1;33m    image_url = images[i].get_attribute('src')\u001b[0m\n\u001b[1;37m    ^\u001b[0m\n\u001b[1;31mIndentationError\u001b[0m\u001b[1;31m:\u001b[0m expected an indented block after 'for' statement on line 42\n"
     ]
    }
   ],
   "source": [
    "#Write a python program to access the search bar and search button on images.google.com and scrape 10\n",
    "#images each for keywords ‘fruits’, ‘cars’ and ‘Machine Learning’, ‘Guitar’, ‘Cakes’.\n",
    "#import all the required libraries\n",
    "import pandas as pd\n",
    "import selenium\n",
    "from selenium import webdriver\n",
    "from selenium.common.exceptions import StaleElementReferenceException, NoSuchElementException\n",
    "import time\n",
    "import re\n",
    "from selenium import webdriver\n",
    "import time\n",
    "\n",
    "# Set up the Chrome driver\n",
    "driver = webdriver.Chrome()\n",
    "\n",
    "# Open images.google.com\n",
    "driver.get('https://images.google.com')\n",
    "\n",
    "# Define the keywords\n",
    "keywords = ['fruits', 'cars', 'Machine Learning', 'Guitar', 'Cakes']\n",
    "\n",
    "# Scrape 10 images for each keyword\n",
    "for keyword in keywords:\n",
    "  # Find the search bar element and enter the keyword\n",
    "  search_bar = driver.find_element_by_name('q')\n",
    "  search_bar.clear()\n",
    "  search_bar.send_keys(keyword)\n",
    "  \n",
    "  # Find the search button element and click it\n",
    "  search_button = driver.find_element_by_css_selector('button[type=\"submit\"]')\n",
    "  search_button.click()\n",
    "  \n",
    "  # Wait for the page to load\n",
    "  time.sleep(2)\n",
    "  \n",
    "  # Scroll down to load more images\n",
    "  driver.execute_script(\"window.scrollTo(0, document.body.scrollHeight);\")\n",
    "  time.sleep(2)\n",
    "  \n",
    "  # Scrape the images\n",
    "  images = driver.find_elements_by_css_selector('img.rg_i')\n",
    "  for i in range(10):\n",
    "  image_url = images[i].get_attribute('src')\n",
    "  print(f\"Scraped image {i+1} for keyword '{keyword}': {image_url}\")\n",
    "  \n",
    "  # Go back to the search page\n",
    "  driver.execute_script(\"window.history.go(-1)\")\n",
    "  time.sleep(2)\n",
    "\n",
    "# Close the browser\n",
    "driver.quit()"
   ]
  },
  {
   "cell_type": "code",
   "execution_count": 2,
   "id": "fa8c0cf9",
   "metadata": {},
   "outputs": [
    {
     "ename": "ModuleNotFoundError",
     "evalue": "No module named 'selenium'",
     "output_type": "error",
     "traceback": [
      "\u001b[1;31m---------------------------------------------------------------------------\u001b[0m",
      "\u001b[1;31mModuleNotFoundError\u001b[0m                       Traceback (most recent call last)",
      "Cell \u001b[1;32mIn[2], line 4\u001b[0m\n\u001b[0;32m      1\u001b[0m \u001b[38;5;66;03m#Write a program to scrap geospatial coordinates (latitude, longitude) of a city searched on google maps.\u001b[39;00m\n\u001b[0;32m      2\u001b[0m \u001b[38;5;66;03m#import all the required libraries\u001b[39;00m\n\u001b[0;32m      3\u001b[0m \u001b[38;5;28;01mimport\u001b[39;00m \u001b[38;5;21;01mpandas\u001b[39;00m \u001b[38;5;28;01mas\u001b[39;00m \u001b[38;5;21;01mpd\u001b[39;00m\n\u001b[1;32m----> 4\u001b[0m \u001b[38;5;28;01mimport\u001b[39;00m \u001b[38;5;21;01mselenium\u001b[39;00m\n\u001b[0;32m      5\u001b[0m \u001b[38;5;28;01mfrom\u001b[39;00m \u001b[38;5;21;01mselenium\u001b[39;00m \u001b[38;5;28;01mimport\u001b[39;00m webdriver\n\u001b[0;32m      6\u001b[0m \u001b[38;5;28;01mfrom\u001b[39;00m \u001b[38;5;21;01mselenium\u001b[39;00m\u001b[38;5;21;01m.\u001b[39;00m\u001b[38;5;21;01mcommon\u001b[39;00m\u001b[38;5;21;01m.\u001b[39;00m\u001b[38;5;21;01mexceptions\u001b[39;00m \u001b[38;5;28;01mimport\u001b[39;00m StaleElementReferenceException, NoSuchElementException\n",
      "\u001b[1;31mModuleNotFoundError\u001b[0m: No module named 'selenium'"
     ]
    }
   ],
   "source": [
    "#Write a program to scrap geospatial coordinates (latitude, longitude) of a city searched on google maps.\n",
    "import pandas as pd\n",
    "import selenium\n",
    "from selenium import webdriver\n",
    "from selenium.common.exceptions import StaleElementReferenceException, NoSuchElementException\n",
    "import time\n",
    "import re\n",
    "driver = webdriver.Chrome(r\"E:\\nandini\\chromedriver_win32\\chromedriver.exe\")\n",
    "#opening google maps\n",
    "driver.get(\"https://www.google.co.in/maps\")\n",
    "time.sleep(3)\n",
    "\n",
    "city = input('Enter City Name : ')                                         # Enter city to be searched\n",
    "search = driver.find_element_by_id(\"searchboxinput\")                       # locating search bar\n",
    "search.clear()                                                             # clearing search bar\n",
    "time.sleep(2)\n",
    "search.send_keys(city)                                                     # entering values in search bar\n",
    "button = driver.find_element_by_id(\"searchbox-searchbutton\")               # locating search button\n",
    "button.click()                                                             # clicking search button\n",
    "time.sleep(3)\n",
    "\n",
    "try:\n",
    "    url_string = driver.current_url\n",
    "    print(\"URL Extracted: \", url_string)\n",
    "    lat_lng = re.findall(r'@(.*)data',url_string)\n",
    "    if len(lat_lng):\n",
    "        lat_lng_list = lat_lng[0].split(\",\")\n",
    "        if len(lat_lng_list)>=2:\n",
    "            lat = lat_lng_list[0]\n",
    "            lng = lat_lng_list[1]\n",
    "        print(\"Latitude = {}, Longitude = {}\".format(lat, lng))\n",
    "\n",
    "except Exception as e:\n",
    "        print(\"Error: \", str(e))"
   ]
  },
  {
   "cell_type": "code",
   "execution_count": null,
   "id": "3ac1481e",
   "metadata": {},
   "outputs": [],
   "source": [
    "#Write a program to scrap all the available details of best gaming laptops from digit.in\n",
    "#import all the required libraries\n",
    "import pandas as pd\n",
    "import selenium\n",
    "from selenium import webdriver\n",
    "from selenium.common.exceptions import StaleElementReferenceException, NoSuchElementException\n",
    "import time\n",
    "import re\n"
   ]
  }
 ],
 "metadata": {
  "kernelspec": {
   "display_name": "Python 3 (ipykernel)",
   "language": "python",
   "name": "python3"
  },
  "language_info": {
   "codemirror_mode": {
    "name": "ipython",
    "version": 3
   },
   "file_extension": ".py",
   "mimetype": "text/x-python",
   "name": "python",
   "nbconvert_exporter": "python",
   "pygments_lexer": "ipython3",
   "version": "3.10.9"
  }
 },
 "nbformat": 4,
 "nbformat_minor": 5
}
